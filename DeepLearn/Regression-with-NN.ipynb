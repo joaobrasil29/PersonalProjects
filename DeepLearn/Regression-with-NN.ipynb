{
 "cells": [
  {
   "cell_type": "code",
   "execution_count": 1,
   "metadata": {},
   "outputs": [
    {
     "ename": "ModuleNotFoundError",
     "evalue": "No module named 'torchinfo'",
     "output_type": "error",
     "traceback": [
      "\u001b[0;31m---------------------------------------------------------------------------\u001b[0m",
      "\u001b[0;31mModuleNotFoundError\u001b[0m                       Traceback (most recent call last)",
      "Cell \u001b[0;32mIn[1], line 6\u001b[0m\n\u001b[1;32m      4\u001b[0m \u001b[38;5;28;01mimport\u001b[39;00m \u001b[38;5;21;01msklearn\u001b[39;00m\n\u001b[1;32m      5\u001b[0m \u001b[38;5;28;01mimport\u001b[39;00m \u001b[38;5;21;01mmatplotlib\u001b[39;00m\u001b[38;5;21;01m.\u001b[39;00m\u001b[38;5;21;01mpyplot\u001b[39;00m \u001b[38;5;28;01mas\u001b[39;00m \u001b[38;5;21;01mplt\u001b[39;00m\n\u001b[0;32m----> 6\u001b[0m \u001b[38;5;28;01mimport\u001b[39;00m \u001b[38;5;21;01mtorchinfo\u001b[39;00m\u001b[38;5;241m,\u001b[39m \u001b[38;5;21;01mtorchmetrics\u001b[39;00m\n\u001b[1;32m      7\u001b[0m \u001b[38;5;28;01mimport\u001b[39;00m \u001b[38;5;21;01mintel_extension_for_pytorch\u001b[39;00m \u001b[38;5;28;01mas\u001b[39;00m \u001b[38;5;21;01mipex\u001b[39;00m\n\u001b[1;32m      9\u001b[0m torch\u001b[38;5;241m.\u001b[39mmanual_seed(\u001b[38;5;241m42\u001b[39m)\n",
      "\u001b[0;31mModuleNotFoundError\u001b[0m: No module named 'torchinfo'"
     ]
    }
   ],
   "source": [
    "import pandas as pd\n",
    "import numpy as np\n",
    "import torch\n",
    "import sklearn\n",
    "import matplotlib.pyplot as plt\n",
    "import torchinfo, torchmetrics\n",
    "import intel_extension_for_pytorch as ipex\n",
    "\n",
    "torch.manual_seed(42)\n"
   ]
  },
  {
   "cell_type": "code",
   "execution_count": 21,
   "metadata": {},
   "outputs": [
    {
     "data": {
      "text/plain": [
       "(1460, 1306)"
      ]
     },
     "execution_count": 21,
     "metadata": {},
     "output_type": "execute_result"
    },
    {
     "data": {
      "image/png": "[encoded data removed]",
      "text/plain": [
       "<Figure size 640x480 with 1 Axes>"
      ]
     },
     "metadata": {},
     "output_type": "display_data"
    }
   ],
   "source": [
    "data = pd.read_csv('data/house-prices.csv')\n",
    "data = data.set_index('Id')\n",
    "naive_data = data.select_dtypes(exclude = ['object'])\n",
    "plt.hist(naive_data.SalePrice, bins=50)\n",
    "naive_data = naive_data[(naive_data.SalePrice > 80) & (naive_data.SalePrice < 300)]\n",
    "plt.hist(naive_data.SalePrice, bins=40)\n",
    "len(data),len(naive_data)"
   ]
  },
  {
   "cell_type": "markdown",
   "metadata": {},
   "source": [
    "This was or output for the best XGBoostRegressor model:\n",
    "\n",
    "    Train dataset\n",
    "    R2 score: 0.9992\n",
    "    MSE score: 5.3522\n",
    "    MAE score: 1.6777\n",
    "\n",
    "    Validation dataset\n",
    "    R2 score: 0.8493\n",
    "    MSE score: 803.4069\n",
    "    MAE score: 15.9140\n",
    "    \n",
    "    Test dataset\n",
    "    R2 score: 0.9023\n",
    "    MSE score: 583.1461\n",
    "    MAE score: 15.7232\n",
    "\n",
    "Let us see what we can do now with Neural Networks."
   ]
  },
  {
   "cell_type": "code",
   "execution_count": 45,
   "metadata": {},
   "outputs": [
    {
     "data": {
      "text/plain": [
       "torch.Size([914, 34])"
      ]
     },
     "execution_count": 45,
     "metadata": {},
     "output_type": "execute_result"
    }
   ],
   "source": [
    "from sklearn.model_selection import train_test_split\n",
    "#from sklearn.metrics import r2_score, mean_absolute_error, mean_squared_error\n",
    "from torchmetrics import R2Score, MeanSquaredError\n",
    "from torchmetrics.functional import mean_absolute_error\n",
    "from sklearn.preprocessing import StandardScaler\n",
    "\n",
    "scaler = StandardScaler()\n",
    "\n",
    "# train-val-test split\n",
    "X_train, X_temp, y_train, y_temp = train_test_split(naive_data.drop(columns=['SalePrice']),naive_data['SalePrice'],\n",
    "                                                    train_size=0.7,\n",
    "                                                   random_state=123)\n",
    "X_val, X_test, y_val, y_test = train_test_split(X_temp,y_temp,train_size=0.5,random_state=123)\n",
    "\n",
    "# Rescale\n",
    "X_train = scaler.fit_transform(X_train)\n",
    "X_val = scaler.transform(X_val)\n",
    "X_test = scaler.transform(X_test)\n",
    "\n",
    "\n",
    "# convert into torch tensors\n",
    "X_train = torch.from_numpy(X_train).type(torch.float)\n",
    "y_train = torch.from_numpy(y_train.values).type(torch.float)\n",
    "X_val = torch.from_numpy(X_val).type(torch.float)\n",
    "y_val = torch.from_numpy(y_val.values).type(torch.float)\n",
    "X_test = torch.from_numpy(X_test).type(torch.float)\n",
    "y_test = torch.from_numpy(y_test.values).type(torch.float)\n",
    "\n",
    "\n",
    "def performance_report(model) -> None:\n",
    "    datasets = [[X_train, y_train],[X_val, y_val],[X_test, y_test]]\n",
    "    dataset_names = ['Train','Validation','Test']\n",
    "    \n",
    "    for dataset in enumerate(datasets):\n",
    "        with torch.inference_mode():\n",
    "            preds = model(dataset[1][0])\n",
    "            target = dataset[1][1]\n",
    "            r2 = R2Score()\n",
    "            MSE = MeanSquaredError()\n",
    "            MAE = mean_absolute_error(preds, target)\n",
    "            print(f\"\\n{dataset_names[dataset[0]]} dataset\")\n",
    "            print(f'R2 score: {r2(preds, target):.4f}')\n",
    "            print(f'MSE score: {MSE(preds,target):.4f}')\n",
    "            print(f'MAE score: {MAE:.4f}')\n",
    "\n",
    "\n",
    "X_train.shape"
   ]
  },
  {
   "cell_type": "code",
   "execution_count": 58,
   "metadata": {},
   "outputs": [],
   "source": [
    "from torch import nn\n",
    "\n",
    "class RegressionNN(nn.Module):\n",
    "    def __init__(self, hidden_units = 8):\n",
    "        super().__init__()\n",
    "        self.linear_layer_stack = nn.Sequential(\n",
    "            nn.Linear(in_features=X_train.shape[1], out_features=hidden_units),\n",
    "            nn.ELU(), \n",
    "            nn.Linear(in_features=hidden_units, out_features=hidden_units),\n",
    "            nn.ELU(),\n",
    "            nn.Linear(in_features=hidden_units, out_features=1), # how many classes are there?\n",
    "        )\n",
    "    \n",
    "    def forward(self, x):\n",
    "        return self.linear_layer_stack(x)\n",
    "\n",
    "regnn = RegressionNN(hidden_units = 64)"
   ]
  },
  {
   "cell_type": "code",
   "execution_count": 59,
   "metadata": {},
   "outputs": [],
   "source": [
    "loss_fn = nn.L1Loss()\n",
    "optimizer = torch.optim.Adam(regnn.parameters(), lr=0.001)"
   ]
  },
  {
   "cell_type": "code",
   "execution_count": 60,
   "metadata": {},
   "outputs": [
    {
     "name": "stdout",
     "output_type": "stream",
     "text": [
      "Epoch: 0 | Train loss: 168.17717, Test loss: 159.82803\n",
      "Epoch: 100 | Train loss: 138.71547, Test loss: 129.67938\n",
      "Epoch: 200 | Train loss: 29.46939, Test loss: 28.70688\n",
      "Epoch: 300 | Train loss: 17.22162, Test loss: 20.00961\n",
      "Epoch: 400 | Train loss: 13.28092, Test loss: 16.87247\n",
      "Epoch: 500 | Train loss: 11.23778, Test loss: 15.69242\n",
      "Epoch: 600 | Train loss: 9.93622, Test loss: 15.23883\n",
      "Epoch: 700 | Train loss: 9.05322, Test loss: 14.99982\n",
      "Epoch: 800 | Train loss: 8.43981, Test loss: 14.94032\n",
      "Epoch: 900 | Train loss: 7.95592, Test loss: 14.97551\n"
     ]
    }
   ],
   "source": [
    "# Set the number of epochs\n",
    "epochs = 1000\n",
    "\n",
    "for epoch in range(epochs):\n",
    "    ### Training \n",
    "    # 1. Forward pass\n",
    "    regnn.train()\n",
    "    y_pred = regnn(X_train).squeeze(dim=1)\n",
    "    \n",
    "    # 2. Calculate loss (no accuracy since it's a regression problem, not classification)\n",
    "    loss = loss_fn(y_pred, y_train)\n",
    "\n",
    "    # 3. Optimizer zero grad\n",
    "    optimizer.zero_grad()\n",
    "\n",
    "    # 4. Loss backwards\n",
    "    loss.backward()\n",
    "\n",
    "    # 5. Optimizer step\n",
    "    optimizer.step()\n",
    "\n",
    "    ### Testing\n",
    "    regnn.eval()\n",
    "    with torch.inference_mode():\n",
    "      # 1. Forward pass\n",
    "      test_pred = regnn(X_test).squeeze(dim=1)\n",
    "      # 2. Calculate the loss \n",
    "      test_loss = loss_fn(test_pred, y_test)\n",
    "\n",
    "    # Print out what's happening\n",
    "    if epoch % 100 == 0: \n",
    "        print(f\"Epoch: {epoch} | Train loss: {loss:.5f}, Test loss: {test_loss:.5f}\")\n",
    "\n"
   ]
  },
  {
   "cell_type": "code",
   "execution_count": 61,
   "metadata": {},
   "outputs": [
    {
     "name": "stdout",
     "output_type": "stream",
     "text": [
      "\n",
      "Train dataset\n",
      "R2 score: 0.9231\n",
      "MSE score: 195.6441\n",
      "MAE score: 7.5233\n",
      "\n",
      "Validation dataset\n",
      "R2 score: 0.3810\n",
      "MSE score: 1560.0316\n",
      "MAE score: 17.9325\n",
      "\n",
      "Test dataset\n",
      "R2 score: 0.8062\n",
      "MSE score: 409.8244\n",
      "MAE score: 15.1128\n"
     ]
    }
   ],
   "source": [
    "def performance_report(model) -> None:\n",
    "    datasets = [[X_train, y_train],[X_val, y_val],[X_test, y_test]]\n",
    "    dataset_names = ['Train','Validation','Test']\n",
    "    \n",
    "    for dataset in enumerate(datasets):\n",
    "        with torch.inference_mode():\n",
    "            preds = model(dataset[1][0]).squeeze(dim=1)\n",
    "            target = dataset[1][1]\n",
    "            r2 = R2Score()\n",
    "            MSE = MeanSquaredError()\n",
    "            MAE = mean_absolute_error(preds, target)\n",
    "            print(f\"\\n{dataset_names[dataset[0]]} dataset\")\n",
    "            print(f'R2 score: {r2(preds, target):.4f}')\n",
    "            print(f'MSE score: {MSE(preds,target):.4f}')\n",
    "            print(f'MAE score: {MAE:.4f}')\n",
    "\n",
    "performance_report(regnn)"
   ]
  },
  {
   "cell_type": "markdown",
   "metadata": {},
   "source": [
    "# Second example"
   ]
  },
  {
   "cell_type": "code",
   "execution_count": 22,
   "metadata": {},
   "outputs": [
    {
     "data": {
      "text/plain": [
       "22.532806324110677"
      ]
     },
     "execution_count": 22,
     "metadata": {},
     "output_type": "execute_result"
    }
   ],
   "source": [
    "import torch\n",
    "from torch import nn\n",
    "from torch.utils.data import DataLoader\n",
    "from sklearn.preprocessing import StandardScaler\n",
    "from sklearn.model_selection import train_test_split\n",
    "import pandas as pd\n",
    "import numpy as np\n",
    "\n",
    "data_url = \"http://lib.stat.cmu.edu/datasets/boston\"\n",
    "raw_df = pd.read_csv(data_url, sep=\"\\s+\", skiprows=22, header=None)\n",
    "data = np.hstack([raw_df.values[::2, :], raw_df.values[1::2, :2]])\n",
    "target = raw_df.values[1::2, 2]\n",
    "\n",
    "X_train, X_test, y_train, y_test = train_test_split(data, target, random_state=123)\n",
    "target.mean()"
   ]
  },
  {
   "cell_type": "code",
   "execution_count": 5,
   "metadata": {},
   "outputs": [
    {
     "data": {
      "text/plain": [
       "torch.Size([379, 13])"
      ]
     },
     "execution_count": 5,
     "metadata": {},
     "output_type": "execute_result"
    }
   ],
   "source": [
    "# Scaling and making it into a Tensor\n",
    "scaler = StandardScaler()\n",
    "X_train = scaler.fit_transform(X_train)\n",
    "X_test = scaler.transform(X_test)\n",
    "\n",
    "X_train = torch.from_numpy(X_train).type(torch.float)\n",
    "y_train = torch.from_numpy(y_train).type(torch.float)\n",
    "X_test = torch.from_numpy(X_test).type(torch.float)\n",
    "y_test = torch.from_numpy(y_test).type(torch.float)\n",
    "X_train.shape"
   ]
  },
  {
   "cell_type": "code",
   "execution_count": 74,
   "metadata": {},
   "outputs": [],
   "source": [
    "class BostonRegressionNN(nn.Module):\n",
    "  def __init__(self):\n",
    "    super().__init__()\n",
    "    self.layers = nn.Sequential(\n",
    "      nn.Linear(13, 64),\n",
    "      nn.ReLU(),\n",
    "      nn.Linear(64, 32),\n",
    "      nn.ReLU(),\n",
    "      nn.Linear(32, 1)\n",
    "    )\n",
    "\n",
    "\n",
    "  def forward(self, x):\n",
    "    '''\n",
    "      Forward pass\n",
    "    '''\n",
    "    return self.layers(x)\n",
    "\n",
    "boston_model = BostonRegressionNN()"
   ]
  },
  {
   "cell_type": "code",
   "execution_count": 75,
   "metadata": {},
   "outputs": [
    {
     "data": {
      "text/plain": [
       "<torch._C.Generator at 0x7f1e22700df0>"
      ]
     },
     "execution_count": 75,
     "metadata": {},
     "output_type": "execute_result"
    }
   ],
   "source": [
    "# Reproducible results\n",
    "torch.manual_seed(42)"
   ]
  },
  {
   "cell_type": "code",
   "execution_count": 76,
   "metadata": {},
   "outputs": [],
   "source": [
    "# Define the loss function and optimizer\n",
    "loss_function = nn.L1Loss()\n",
    "optimizer = torch.optim.Adam(boston_model.parameters(), lr=2e-4)"
   ]
  },
  {
   "cell_type": "code",
   "execution_count": 77,
   "metadata": {},
   "outputs": [
    {
     "name": "stdout",
     "output_type": "stream",
     "text": [
      "Epoch: 0 | Train loss: 22.53928, Test loss: 22.85912\n",
      "Epoch: 500 | Train loss: 6.37117, Test loss: 6.21169\n",
      "Epoch: 1000 | Train loss: 3.08625, Test loss: 3.32651\n",
      "Epoch: 1500 | Train loss: 2.34721, Test loss: 2.79183\n",
      "Epoch: 2000 | Train loss: 2.03500, Test loss: 2.68008\n",
      "Epoch: 2500 | Train loss: 1.85044, Test loss: 2.65589\n",
      "Epoch: 3000 | Train loss: 1.71986, Test loss: 2.65217\n",
      "Epoch: 3500 | Train loss: 1.60232, Test loss: 2.63512\n",
      "Epoch: 4000 | Train loss: 1.50205, Test loss: 2.62947\n",
      "Epoch: 4500 | Train loss: 1.42492, Test loss: 2.61908\n"
     ]
    }
   ],
   "source": [
    "# Run the training loop\n",
    "# Set the number of epochs\n",
    "epochs = 5000\n",
    "\n",
    "for epoch in range(epochs):\n",
    "    ### Training \n",
    "    # 1. Forward pass\n",
    "    boston_model.train()\n",
    "    y_pred = boston_model(X_train).squeeze(dim=1)\n",
    "    \n",
    "    # 2. Calculate loss (no accuracy since it's a regression problem, not classification)\n",
    "    loss = loss_function(y_pred, y_train)\n",
    "\n",
    "    # 3. Optimizer zero grad\n",
    "    optimizer.zero_grad()\n",
    "\n",
    "    # 4. Loss backwards\n",
    "    loss.backward()\n",
    "\n",
    "    # 5. Optimizer step\n",
    "    optimizer.step()\n",
    "\n",
    "    ### Testing\n",
    "    boston_model.eval()\n",
    "    with torch.inference_mode():\n",
    "      # 1. Forward pass\n",
    "      test_pred = boston_model(X_test).squeeze(dim=1)\n",
    "      # 2. Calculate the loss \n",
    "      test_loss = loss_function(test_pred, y_test)\n",
    "\n",
    "    # Print out what's happening\n",
    "    if epoch % 500 == 0: \n",
    "        print(f\"Epoch: {epoch} | Train loss: {loss:.5f}, Test loss: {test_loss:.5f}\")\n"
   ]
  },
  {
   "cell_type": "code",
   "execution_count": 78,
   "metadata": {},
   "outputs": [
    {
     "name": "stdout",
     "output_type": "stream",
     "text": [
      "\n",
      "Train dataset\n",
      "R2 score: 0.9202\n",
      "MSE score: 6.8777\n",
      "MAE score: 1.3607\n",
      "\n",
      "Test dataset\n",
      "R2 score: 0.7579\n",
      "MSE score: 19.1102\n",
      "MAE score: 2.5959\n"
     ]
    }
   ],
   "source": [
    "def performance_report(model) -> None:\n",
    "    datasets = [[X_train, y_train],[X_test, y_test]]\n",
    "    dataset_names = ['Train','Test']\n",
    "    \n",
    "    for dataset in enumerate(datasets):\n",
    "        with torch.inference_mode():\n",
    "            preds = model(dataset[1][0]).squeeze(dim=1)\n",
    "            target = dataset[1][1]\n",
    "            r2 = R2Score()\n",
    "            MSE = MeanSquaredError()\n",
    "            MAE = mean_absolute_error(preds, target)\n",
    "            print(f\"\\n{dataset_names[dataset[0]]} dataset\")\n",
    "            print(f'R2 score: {r2(preds, target):.4f}')\n",
    "            print(f'MSE score: {MSE(preds,target):.4f}')\n",
    "            print(f'MAE score: {MAE:.4f}')\n",
    "\n",
    "performance_report(boston_model)"
   ]
  },
  {
   "cell_type": "markdown",
   "metadata": {},
   "source": [
    "# Third Example: The California Dataset\n",
    "\n",
    "This is a dataset that describes the median house value for California districts. Each data sample is a census block group. The target variable is the median house value in USD 100,000 in 1990 and there are 8 input features, each describing something about the house. They are, namely,\n",
    "\n",
    "- MedInc: median income in block group\n",
    "- HouseAge: median house age in block group\n",
    "- AveRooms: average number of rooms per household\n",
    "- AveBedrms: average number of bedrooms per household\n",
    "- Population: block group population\n",
    "- AveOccup: average number of household members\n",
    "- Latitude: block group centroid latitude\n",
    "- Longitude: block group centroid longitude\n"
   ]
  },
  {
   "cell_type": "code",
   "execution_count": 23,
   "metadata": {},
   "outputs": [
    {
     "data": {
      "text/plain": [
       "2.068558169089147"
      ]
     },
     "execution_count": 23,
     "metadata": {},
     "output_type": "execute_result"
    }
   ],
   "source": [
    "#!pip install tqdm\n",
    "import copy\n",
    "import matplotlib.pyplot as plt\n",
    "import numpy as np\n",
    "import pandas as pd\n",
    "import torch\n",
    "import torch.nn as nn\n",
    "import torch.optim as optim\n",
    "import tqdm\n",
    "from sklearn.model_selection import train_test_split\n",
    "from sklearn.datasets import fetch_california_housing\n",
    "\n",
    "# Read data\n",
    "data = fetch_california_housing()\n",
    "X, y = data.data, data.target\n",
    "\n",
    "X_train, X_test, y_train, y_test = train_test_split(X, y, train_size=0.7, shuffle=True, random_state=123)\n",
    "\n",
    "# Convert to PyTorch\n",
    "X_train = torch.tensor(X_train, dtype=torch.float32)\n",
    "y_train = torch.tensor(y_train, dtype=torch.float32).reshape(-1, 1)\n",
    "X_test = torch.tensor(X_test, dtype=torch.float32)\n",
    "y_test = torch.tensor(y_test, dtype=torch.float32).reshape(-1, 1)\n",
    "y.mean()"
   ]
  },
  {
   "cell_type": "code",
   "execution_count": 19,
   "metadata": {},
   "outputs": [],
   "source": [
    "# Define the model (simpler version)\n",
    "#model = nn.Sequential(\n",
    "#    nn.Linear(8, 24),\n",
    "#    nn.ReLU(),\n",
    "#    nn.Linear(24, 12),\n",
    "#    nn.ReLU(),\n",
    "#    nn.Linear(12, 6),\n",
    "#    nn.ReLU(),\n",
    "#    nn.Linear(6, 1)\n",
    "#)\n",
    "\n",
    "# More elegant version \n",
    "class CaliforniaRegressionNN(nn.Module):\n",
    "  def __init__(self):\n",
    "    super().__init__()\n",
    "    self.layers = nn.Sequential(\n",
    "        nn.Linear(8, 24),\n",
    "        nn.ReLU(),\n",
    "        nn.Linear(24, 12),\n",
    "        nn.ReLU(),\n",
    "        nn.Linear(12, 6),\n",
    "        nn.ReLU(),\n",
    "        nn.Linear(6, 1)\n",
    "    )\n",
    "\n",
    "\n",
    "  def forward(self, x):\n",
    "    '''\n",
    "      Forward pass\n",
    "    '''\n",
    "    return self.layers(x)\n",
    "\n",
    "cali_model = CaliforniaRegressionNN()\n",
    "#list(cali_model.parameters())"
   ]
  },
  {
   "cell_type": "code",
   "execution_count": 81,
   "metadata": {},
   "outputs": [],
   "source": [
    "# loss function and optimizer\n",
    "loss_fn = nn.MSELoss()  # mean square error\n",
    "optimizer = optim.Adam(cali_model.parameters(), lr=0.0001)"
   ]
  },
  {
   "cell_type": "code",
   "execution_count": 82,
   "metadata": {},
   "outputs": [
    {
     "name": "stdout",
     "output_type": "stream",
     "text": [
      "MSE: 0.54\n",
      "RMSE: 0.73\n"
     ]
    },
    {
     "data": {
      "image/png": "[encoded data removed]",
      "text/plain": [
       "<Figure size 640x480 with 1 Axes>"
      ]
     },
     "metadata": {},
     "output_type": "display_data"
    }
   ],
   "source": [
    "n_epochs = 100   # number of epochs to run\n",
    "batch_size = 10  # size of each batch\n",
    "batch_start = torch.arange(0, len(X_train), batch_size)\n",
    "\n",
    "# Hold the best model\n",
    "best_mse = np.inf   # init to infinity\n",
    "best_weights = None\n",
    "history = []\n",
    "\n",
    "for epoch in range(n_epochs):\n",
    "    cali_model.train()\n",
    "    with tqdm.tqdm(batch_start, unit=\"batch\", mininterval=0, disable=True) as bar:\n",
    "        bar.set_description(f\"Epoch {epoch}\")\n",
    "        for start in bar:\n",
    "            # take a batch\n",
    "            X_batch = X_train[start:start+batch_size]\n",
    "            y_batch = y_train[start:start+batch_size]\n",
    "            # forward pass\n",
    "            y_pred = cali_model(X_batch)\n",
    "            loss = loss_fn(y_pred, y_batch)\n",
    "            # backward pass\n",
    "            optimizer.zero_grad()\n",
    "            loss.backward()\n",
    "            # update weights\n",
    "            optimizer.step()\n",
    "            # print progress\n",
    "            bar.set_postfix(mse=float(loss))\n",
    "    # evaluate accuracy at end of each epoch\n",
    "    cali_model.eval()\n",
    "    y_pred = cali_model(X_test)\n",
    "    mse = loss_fn(y_pred, y_test)\n",
    "    mse = float(mse)\n",
    "    history.append(mse)\n",
    "    if mse < best_mse:\n",
    "        best_mse = mse\n",
    "        best_weights = copy.deepcopy(cali_model.state_dict())\n",
    "\n",
    "# restore model and return best accuracy\n",
    "cali_model.load_state_dict(best_weights)\n",
    "print(\"MSE: %.2f\" % best_mse)\n",
    "print(\"RMSE: %.2f\" % np.sqrt(best_mse))\n",
    "plt.plot(history)\n",
    "plt.show()"
   ]
  },
  {
   "cell_type": "code",
   "execution_count": 83,
   "metadata": {},
   "outputs": [
    {
     "name": "stdout",
     "output_type": "stream",
     "text": [
      "\n",
      "Train dataset\n",
      "R2 score: 0.5845\n",
      "MSE score: 0.5548\n",
      "MAE score: 0.5492\n",
      "\n",
      "Test dataset\n",
      "R2 score: 0.5919\n",
      "MSE score: 0.5396\n",
      "MAE score: 0.5434\n"
     ]
    }
   ],
   "source": [
    "def performance_report(model) -> None:\n",
    "    datasets = [[X_train, y_train],[X_test, y_test]]\n",
    "    dataset_names = ['Train','Test']\n",
    "    \n",
    "    for dataset in enumerate(datasets):\n",
    "        with torch.inference_mode():\n",
    "            preds = model(dataset[1][0])\n",
    "            target = dataset[1][1]\n",
    "            r2 = R2Score()\n",
    "            MSE = MeanSquaredError()\n",
    "            MAE = mean_absolute_error(preds, target)\n",
    "            print(f\"\\n{dataset_names[dataset[0]]} dataset\")\n",
    "            print(f'R2 score: {r2(preds, target):.4f}')\n",
    "            print(f'MSE score: {MSE(preds,target):.4f}')\n",
    "            print(f'MAE score: {MAE:.4f}')\n",
    "\n",
    "performance_report(cali_model)"
   ]
  },
  {
   "cell_type": "code",
   "execution_count": null,
   "metadata": {},
   "outputs": [],
   "source": []
  }
 ],
 "metadata": {
  "kernelspec": {
   "display_name": "Python 3 (ipykernel)",
   "language": "python",
   "name": "python3"
  },
  "language_info": {
   "codemirror_mode": {
    "name": "ipython",
    "version": 3
   },
   "file_extension": ".py",
   "mimetype": "text/x-python",
   "name": "python",
   "nbconvert_exporter": "python",
   "pygments_lexer": "ipython3",
   "version": "3.11.7"
  }
 },
 "nbformat": 4,
 "nbformat_minor": 4
}
